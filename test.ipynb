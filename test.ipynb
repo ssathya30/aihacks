import cv2
img = cv2.imread("smile.png")
import matplotlib.pyplot as plt
plt.imshow(img)
